{
 "cells": [
  {
   "cell_type": "code",
   "execution_count": 0,
   "metadata": {
    "application/vnd.databricks.v1+cell": {
     "cellMetadata": {},
     "inputWidgets": {},
     "nuid": "f76bac71-6e6c-4d13-92d3-c6ed7444d869",
     "showTitle": false,
     "tableResultSettingsMap": {},
     "title": ""
    }
   },
   "outputs": [],
   "source": []
  },
  {
   "cell_type": "code",
   "execution_count": 0,
   "metadata": {
    "application/vnd.databricks.v1+cell": {
     "cellMetadata": {
      "byteLimit": 2048000,
      "implicitDf": true,
      "rowLimit": 10000
     },
     "inputWidgets": {},
     "nuid": "afa15684-107a-4318-8663-e6473338fe40",
     "showTitle": false,
     "tableResultSettingsMap": {
      "0": {
       "dataGridStateBlob": "{\"version\":1,\"tableState\":{\"columnPinning\":{\"left\":[\"#row_number#\"],\"right\":[]},\"columnSizing\":{\"catalog\":222},\"columnVisibility\":{}},\"settings\":{\"columns\":{}},\"syncTimestamp\":1759849868849}",
       "filterBlob": null,
       "queryPlanFiltersBlob": null,
       "tableResultIndex": 0
      }
     },
     "title": ""
    }
   },
   "outputs": [],
   "source": [
    "%sql SHOW CATALOGS;"
   ]
  },
  {
   "cell_type": "code",
   "execution_count": 0,
   "metadata": {
    "application/vnd.databricks.v1+cell": {
     "cellMetadata": {
      "byteLimit": 2048000,
      "implicitDf": true,
      "rowLimit": 10000
     },
     "inputWidgets": {},
     "nuid": "46c36a20-4ecf-4cb4-aa46-2e1d28895da5",
     "showTitle": false,
     "tableResultSettingsMap": {},
     "title": ""
    }
   },
   "outputs": [],
   "source": [
    "%sql\n",
    "use CATALOG glk_dbx_gcp_ext_catalog;"
   ]
  },
  {
   "cell_type": "code",
   "execution_count": 0,
   "metadata": {
    "application/vnd.databricks.v1+cell": {
     "cellMetadata": {
      "byteLimit": 2048000,
      "implicitDf": true,
      "rowLimit": 10000
     },
     "inputWidgets": {},
     "nuid": "552cfd5d-e007-4079-9cf3-3e5c7df3506e",
     "showTitle": false,
     "tableResultSettingsMap": {},
     "title": ""
    }
   },
   "outputs": [],
   "source": [
    "%sql\n",
    "CREATE SCHEMA IF NOT EXISTS creditcard_schema\n",
    "COMMENT \"Schema for credit card ETL practice\"\n",
    "MANAGED LOCATION 'gs://databricks-glk-dbx-ext-storage/creditcard/';"
   ]
  },
  {
   "cell_type": "code",
   "execution_count": 0,
   "metadata": {
    "application/vnd.databricks.v1+cell": {
     "cellMetadata": {
      "byteLimit": 2048000,
      "implicitDf": true,
      "rowLimit": 10000
     },
     "inputWidgets": {},
     "nuid": "fb9af548-aec7-4384-abae-ea76c02d55e9",
     "showTitle": false,
     "tableResultSettingsMap": {},
     "title": ""
    }
   },
   "outputs": [],
   "source": [
    "%sql\n",
    "CREATE TABLE creditcard_schema.creditcard_bronze\n",
    "USING CSV\n",
    "OPTIONS (\n",
    "  path 'gs://databricks-glk-dbx-ext-storage/creditcard/creditcard.csv',\n",
    "  header 'true',\n",
    "  inferSchema 'true'\n",
    ");"
   ]
  },
  {
   "cell_type": "code",
   "execution_count": 0,
   "metadata": {
    "application/vnd.databricks.v1+cell": {
     "cellMetadata": {
      "byteLimit": 2048000,
      "implicitDf": true,
      "rowLimit": 10000
     },
     "inputWidgets": {},
     "nuid": "b26a5479-356c-4259-97f2-2128e43d743d",
     "showTitle": false,
     "tableResultSettingsMap": {},
     "title": ""
    }
   },
   "outputs": [],
   "source": [
    "%sql\n",
    "SELECT * FROM creditcard_schema.creditcard_bronze LIMIT 5;"
   ]
  },
  {
   "cell_type": "code",
   "execution_count": 0,
   "metadata": {
    "application/vnd.databricks.v1+cell": {
     "cellMetadata": {
      "byteLimit": 2048000,
      "rowLimit": 10000
     },
     "inputWidgets": {},
     "nuid": "beb86fcd-6965-4943-81ed-7fbc6282f50d",
     "showTitle": false,
     "tableResultSettingsMap": {},
     "title": ""
    }
   },
   "outputs": [],
   "source": [
    "from pyspark.sql.functions import col\n",
    "\n",
    "df_bronze = spark.table(\"creditcard_schema.creditcard_bronze\")\n",
    "\n",
    "df_silver = df_bronze.dropDuplicates().fillna(0) \\\n",
    "    .withColumn(\"Amount\", col(\"Amount\").cast(\"double\")) \\\n",
    "    .withColumn(\"Class\", col(\"Class\").cast(\"int\"))\n",
    "\n",
    "df_silver.show(5)\n"
   ]
  },
  {
   "cell_type": "code",
   "execution_count": 0,
   "metadata": {
    "application/vnd.databricks.v1+cell": {
     "cellMetadata": {
      "byteLimit": 2048000,
      "rowLimit": 10000
     },
     "inputWidgets": {},
     "nuid": "20f68e91-4439-46ba-abd1-238f3a0ce123",
     "showTitle": false,
     "tableResultSettingsMap": {},
     "title": ""
    }
   },
   "outputs": [],
   "source": [
    "#Save Silver as Delta table:\n",
    "\n",
    "df_silver.write.format(\"delta\").mode(\"overwrite\").save(\"gs://databricks-glk-dbx-ext-storage/creditcard/silver_creditcard\")"
   ]
  },
  {
   "cell_type": "code",
   "execution_count": 0,
   "metadata": {
    "application/vnd.databricks.v1+cell": {
     "cellMetadata": {
      "byteLimit": 2048000,
      "implicitDf": true,
      "rowLimit": 10000
     },
     "inputWidgets": {},
     "nuid": "74a90ea6-eaaa-49b8-9585-d81b11713f55",
     "showTitle": false,
     "tableResultSettingsMap": {},
     "title": ""
    }
   },
   "outputs": [],
   "source": [
    "%sql\n",
    "--Register Silver table in Databricks:\n",
    "\n",
    "CREATE TABLE creditcard_schema.creditcard_silver\n",
    "using delta\n",
    "location \"gs://databricks-glk-dbx-ext-storage/creditcard/silver_creditcard\";"
   ]
  },
  {
   "cell_type": "code",
   "execution_count": 0,
   "metadata": {
    "application/vnd.databricks.v1+cell": {
     "cellMetadata": {
      "byteLimit": 2048000,
      "implicitDf": true,
      "rowLimit": 10000
     },
     "inputWidgets": {},
     "nuid": "d6f28829-2a47-4bd7-b185-e8b56a652be7",
     "showTitle": false,
     "tableResultSettingsMap": {},
     "title": ""
    }
   },
   "outputs": [],
   "source": [
    "%sql\n",
    "CREATE OR REPLACE TABLE creditcard_schema.gold_fraud_amount_bucket\n",
    "USING DELTA\n",
    "AS\n",
    "SELECT\n",
    "  CASE \n",
    "    WHEN Amount < 50 THEN '<50'\n",
    "    WHEN Amount < 100 THEN '50-100'\n",
    "    WHEN Amount < 500 THEN '100-500'\n",
    "    WHEN Amount < 1000 THEN '500-1000'\n",
    "    ELSE '>1000'\n",
    "  END AS amount_bucket,\n",
    "  COUNT(*) AS total_txns,\n",
    "  SUM(Class) AS fraud_txns,\n",
    "  ROUND(SUM(Class)*100.0/COUNT(*),2) AS fraud_percentage\n",
    "FROM creditcard_schema.creditcard_silver\n",
    "GROUP BY \n",
    "  CASE \n",
    "    WHEN Amount < 50 THEN '<50'\n",
    "    WHEN Amount < 100 THEN '50-100'\n",
    "    WHEN Amount < 500 THEN '100-500'\n",
    "    WHEN Amount < 1000 THEN '500-1000'\n",
    "    ELSE '>1000'\n",
    "  END\n",
    "ORDER BY amount_bucket;"
   ]
  },
  {
   "cell_type": "code",
   "execution_count": 0,
   "metadata": {
    "application/vnd.databricks.v1+cell": {
     "cellMetadata": {
      "byteLimit": 2048000,
      "implicitDf": true,
      "rowLimit": 10000
     },
     "inputWidgets": {},
     "nuid": "9ddb99eb-70d6-4914-8668-e8a95ef0a2ae",
     "showTitle": false,
     "tableResultSettingsMap": {},
     "title": ""
    }
   },
   "outputs": [],
   "source": [
    "%sql\n",
    "select * from creditcard_schema.gold_fraud_amount_bucket order by amount_bucket asc;"
   ]
  },
  {
   "cell_type": "code",
   "execution_count": 0,
   "metadata": {
    "application/vnd.databricks.v1+cell": {
     "cellMetadata": {
      "byteLimit": 2048000,
      "implicitDf": true,
      "rowLimit": 10000
     },
     "inputWidgets": {},
     "nuid": "98c0976c-12b4-4bd9-94f5-87a3952e8f12",
     "showTitle": false,
     "tableResultSettingsMap": {},
     "title": ""
    }
   },
   "outputs": [],
   "source": [
    "%sql\n",
    "CREATE OR REPLACE TABLE creditcard_schema.gold_top_risk_txns\n",
    "USING DELTA\n",
    "AS\n",
    "SELECT *\n",
    "FROM creditcard_schema.creditcard_silver\n",
    "WHERE Class = 1\n",
    "ORDER BY Amount DESC\n",
    "LIMIT 10;"
   ]
  },
  {
   "cell_type": "code",
   "execution_count": 0,
   "metadata": {
    "application/vnd.databricks.v1+cell": {
     "cellMetadata": {
      "byteLimit": 2048000,
      "implicitDf": true,
      "rowLimit": 10000
     },
     "inputWidgets": {},
     "nuid": "30003165-34fa-428d-9321-1ff121d9bcf6",
     "showTitle": false,
     "tableResultSettingsMap": {},
     "title": ""
    }
   },
   "outputs": [],
   "source": [
    "%sql\n",
    "CREATE OR REPLACE TABLE creditcard_schema.gold_fraud_hourly\n",
    "USING DELTA\n",
    "AS\n",
    "SELECT\n",
    "  CAST(FLOOR(Time/3600) AS INT) AS hour_bucket,\n",
    "  COUNT(*) AS total_txns,\n",
    "  SUM(Class) AS fraud_txns,\n",
    "  ROUND(SUM(Class)*100.0/COUNT(*),2) AS fraud_percentage\n",
    "FROM creditcard_schema.creditcard_silver\n",
    "GROUP BY CAST(FLOOR(Time/3600) AS INT)\n",
    "ORDER BY hour_bucket;"
   ]
  },
  {
   "cell_type": "code",
   "execution_count": 0,
   "metadata": {
    "application/vnd.databricks.v1+cell": {
     "cellMetadata": {
      "byteLimit": 2048000,
      "implicitDf": true,
      "rowLimit": 10000
     },
     "inputWidgets": {},
     "nuid": "d0a0c40d-9655-4175-8e43-79896c26ae6d",
     "showTitle": false,
     "tableResultSettingsMap": {},
     "title": ""
    }
   },
   "outputs": [],
   "source": [
    "%sql\n",
    "select * from creditcard_schema.gold_fraud_hourly;"
   ]
  },
  {
   "cell_type": "code",
   "execution_count": 0,
   "metadata": {
    "application/vnd.databricks.v1+cell": {
     "cellMetadata": {
      "byteLimit": 2048000,
      "implicitDf": true,
      "rowLimit": 10000
     },
     "inputWidgets": {},
     "nuid": "06a256ef-84d4-4581-a16d-e285ddfd2750",
     "showTitle": false,
     "tableResultSettingsMap": {},
     "title": ""
    }
   },
   "outputs": [],
   "source": [
    "%sql\n",
    "CREATE OR REPLACE TABLE creditcard_schema.gold_fraud_summary\n",
    "USING DELTA\n",
    "AS\n",
    "SELECT\n",
    "  Class,\n",
    "  COUNT(*) AS total_txns,\n",
    "  SUM(Amount) AS total_amount,\n",
    "  AVG(Amount) AS avg_amount,\n",
    "  MIN(Amount) AS min_amount,\n",
    "  MAX(Amount) AS max_amount\n",
    "FROM creditcard_schema.creditcard_silver\n",
    "GROUP BY Class;"
   ]
  },
  {
   "cell_type": "code",
   "execution_count": 0,
   "metadata": {
    "application/vnd.databricks.v1+cell": {
     "cellMetadata": {
      "byteLimit": 2048000,
      "implicitDf": true,
      "rowLimit": 10000
     },
     "inputWidgets": {},
     "nuid": "eb1dce76-a945-45b2-9521-e3dbb191ae89",
     "showTitle": false,
     "tableResultSettingsMap": {},
     "title": ""
    }
   },
   "outputs": [],
   "source": [
    "%sql\n",
    "select * from creditcard_schema.gold_fraud_summary;"
   ]
  },
  {
   "cell_type": "code",
   "execution_count": 0,
   "metadata": {
    "application/vnd.databricks.v1+cell": {
     "cellMetadata": {
      "byteLimit": 2048000,
      "rowLimit": 10000
     },
     "inputWidgets": {},
     "nuid": "7fc5f401-136c-4087-bf2a-3d10ff3f1a8c",
     "showTitle": false,
     "tableResultSettingsMap": {},
     "title": ""
    }
   },
   "outputs": [],
   "source": [
    "from pyspark.sql.functions import col\n",
    "\n",
    "df_silver = spark.table(\"creditcard_schema.creditcard_silver\")\n",
    "\n",
    "print(df_silver.stat.corr(\"Amount\", \"Class\"))"
   ]
  }
 ],
 "metadata": {
  "application/vnd.databricks.v1+notebook": {
   "computePreferences": null,
   "dashboards": [],
   "environmentMetadata": {
    "base_environment": "",
    "environment_version": "3"
   },
   "inputWidgetPreferences": null,
   "language": "python",
   "notebookMetadata": {
    "mostRecentlyExecutedCommandWithImplicitDF": {
     "commandId": 5583141673845247,
     "dataframes": [
      "_sqldf"
     ]
    },
    "pythonIndentUnit": 4
   },
   "notebookName": "CreditCard_Fraud_ETL",
   "widgets": {}
  },
  "language_info": {
   "name": "python"
  }
 },
 "nbformat": 4,
 "nbformat_minor": 0
}
